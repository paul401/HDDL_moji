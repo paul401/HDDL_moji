{
 "cells": [
  {
   "cell_type": "code",
   "execution_count": 16,
   "metadata": {},
   "outputs": [
    {
     "ename": "ImportError",
     "evalue": "No module named pandas",
     "output_type": "error",
     "traceback": [
      "\u001b[1;31m---------------------------------------------------------------------------\u001b[0m",
      "\u001b[1;31mImportError\u001b[0m                               Traceback (most recent call last)",
      "\u001b[1;32m<ipython-input-16-ba9708d57b99>\u001b[0m in \u001b[0;36m<module>\u001b[1;34m()\u001b[0m\n\u001b[0;32m      7\u001b[0m \u001b[1;32mfrom\u001b[0m \u001b[0mdeepmoji\u001b[0m\u001b[1;33m.\u001b[0m\u001b[0mmodel_def\u001b[0m \u001b[1;32mimport\u001b[0m \u001b[0mdeepmoji_emojis\u001b[0m\u001b[1;33m\u001b[0m\u001b[0m\n\u001b[0;32m      8\u001b[0m \u001b[1;32mfrom\u001b[0m \u001b[0mdeepmoji\u001b[0m\u001b[1;33m.\u001b[0m\u001b[0mglobal_variables\u001b[0m \u001b[1;32mimport\u001b[0m \u001b[0mPRETRAINED_PATH\u001b[0m\u001b[1;33m,\u001b[0m \u001b[0mVOCAB_PATH\u001b[0m\u001b[1;33m\u001b[0m\u001b[0m\n\u001b[1;32m----> 9\u001b[1;33m \u001b[1;32mimport\u001b[0m \u001b[0mpandas\u001b[0m \u001b[1;32mas\u001b[0m \u001b[0mpd\u001b[0m\u001b[1;33m\u001b[0m\u001b[0m\n\u001b[0m\u001b[0;32m     10\u001b[0m \u001b[0mOUTPUT_PATH\u001b[0m \u001b[1;33m=\u001b[0m \u001b[1;34m'test_sentences.csv'\u001b[0m\u001b[1;33m\u001b[0m\u001b[0m\n\u001b[0;32m     11\u001b[0m \u001b[1;33m\u001b[0m\u001b[0m\n",
      "\u001b[1;31mImportError\u001b[0m: No module named pandas"
     ]
    }
   ],
   "source": [
    "from __future__ import print_function, division\n",
    "#import example_helper\n",
    "import json\n",
    "import csv\n",
    "import numpy as np\n",
    "from deepmoji.sentence_tokenizer import SentenceTokenizer\n",
    "from deepmoji.model_def import deepmoji_emojis\n",
    "from deepmoji.global_variables import PRETRAINED_PATH, VOCAB_PATH\n",
    "import pandas as pd\n",
    "OUTPUT_PATH = 'test_sentences.csv'\n",
    "\n",
    "TEST_SENTENCES = [u'I love mom\\'s cooking',\n",
    "                  u'I love how you never reply back..',\n",
    "                  u'I love cruising with my homies',\n",
    "                  u'I love messing with yo mind!!',\n",
    "                  u'I love you and now you\\'re just gone..',\n",
    "                  u'Paul is dead',\n",
    "                  u'I am very afraid of dying',\n",
    "                  u'I am very happy right now!']\n",
    "\n"
   ]
  },
  {
   "cell_type": "code",
   "execution_count": 15,
   "metadata": {},
   "outputs": [
    {
     "ename": "NameError",
     "evalue": "name 'pd' is not defined",
     "output_type": "error",
     "traceback": [
      "\u001b[1;31m---------------------------------------------------------------------------\u001b[0m",
      "\u001b[1;31mNameError\u001b[0m                                 Traceback (most recent call last)",
      "\u001b[1;32m<ipython-input-15-46c5a7a8b59c>\u001b[0m in \u001b[0;36m<module>\u001b[1;34m()\u001b[0m\n\u001b[1;32m----> 1\u001b[1;33m \u001b[0mdf_train\u001b[0m \u001b[1;33m=\u001b[0m \u001b[0mpd\u001b[0m\u001b[1;33m.\u001b[0m\u001b[0mread_csv\u001b[0m\u001b[1;33m(\u001b[0m\u001b[1;34m\"data/train.csv\"\u001b[0m\u001b[1;33m)\u001b[0m\u001b[1;33m\u001b[0m\u001b[0m\n\u001b[0m\u001b[0;32m      2\u001b[0m \u001b[0mdf_test\u001b[0m  \u001b[1;33m=\u001b[0m \u001b[0mpd\u001b[0m\u001b[1;33m.\u001b[0m\u001b[0mread_csv\u001b[0m\u001b[1;33m(\u001b[0m\u001b[1;34m\"data/test.csv\"\u001b[0m\u001b[1;33m)\u001b[0m\u001b[1;33m\u001b[0m\u001b[0m\n",
      "\u001b[1;31mNameError\u001b[0m: name 'pd' is not defined"
     ]
    }
   ],
   "source": [
    "df_train = pd.read_csv(\"data/train.csv\")\n",
    "df_test  = pd.read_csv(\"data/test.csv\")"
   ]
  },
  {
   "cell_type": "code",
   "execution_count": 13,
   "metadata": {},
   "outputs": [
    {
     "name": "stdout",
     "output_type": "stream",
     "text": [
      "Tokenizing using dictionary from /home/wilhelm/INSA/5A/HDDL/Projet_HDDL/HDDL_moji/model/vocabulary.json\n",
      "Loading model from /home/wilhelm/INSA/5A/HDDL/Projet_HDDL/HDDL_moji/model/deepmoji_weights.hdf5.\n",
      "__________________________________________________________________________________________________\n",
      "Layer (type)                    Output Shape         Param #     Connected to                     \n",
      "==================================================================================================\n",
      "input_4 (InputLayer)            (None, 30)           0                                            \n",
      "__________________________________________________________________________________________________\n",
      "embedding (Embedding)           (None, 30, 256)      12800000    input_4[0][0]                    \n",
      "__________________________________________________________________________________________________\n",
      "activation_4 (Activation)       (None, 30, 256)      0           embedding[0][0]                  \n",
      "__________________________________________________________________________________________________\n",
      "bi_lstm_0 (Bidirectional)       (None, 30, 1024)     3149824     activation_4[0][0]               \n",
      "__________________________________________________________________________________________________\n",
      "bi_lstm_1 (Bidirectional)       (None, 30, 1024)     6295552     bi_lstm_0[0][0]                  \n",
      "__________________________________________________________________________________________________\n",
      "concatenate_4 (Concatenate)     (None, 30, 2304)     0           bi_lstm_1[0][0]                  \n",
      "                                                                 bi_lstm_0[0][0]                  \n",
      "                                                                 activation_4[0][0]               \n",
      "__________________________________________________________________________________________________\n",
      "attlayer (AttentionWeightedAver (None, 2304)         2304        concatenate_4[0][0]              \n",
      "__________________________________________________________________________________________________\n",
      "softmax (Dense)                 (None, 64)           147520      attlayer[0][0]                   \n",
      "==================================================================================================\n",
      "Total params: 22,395,200\n",
      "Trainable params: 22,395,200\n",
      "Non-trainable params: 0\n",
      "__________________________________________________________________________________________________\n"
     ]
    }
   ],
   "source": [
    "\n",
    "def top_elements(array, k):\n",
    "    ind = np.argpartition(array, -k)[-k:]\n",
    "    return ind[np.argsort(array[ind])][::-1]\n",
    "\n",
    "\n",
    "maxlen = 30\n",
    "batch_size = 32\n",
    "\n",
    "print('Tokenizing using dictionary from {}'.format(VOCAB_PATH))\n",
    "with open(VOCAB_PATH, 'r') as f:\n",
    "    vocabulary = json.load(f)\n",
    "st = SentenceTokenizer(vocabulary, maxlen)\n",
    "tokenized, _, _ = st.tokenize_sentences(TEST_SENTENCES)\n",
    "\n",
    "print('Loading model from {}.'.format(PRETRAINED_PATH))\n",
    "model = deepmoji_emojis(maxlen, PRETRAINED_PATH)\n",
    "model.summary()\n"
   ]
  },
  {
   "cell_type": "code",
   "execution_count": 14,
   "metadata": {},
   "outputs": [
    {
     "name": "stdout",
     "output_type": "stream",
     "text": [
      "Running predictions.\n",
      "Writing results to test_sentences.csv\n",
      "[u\"I love mom's cooking\", 0.66769218631088734, 36, 4, 8, 16, 47, 0.49053311, 0.087657787, 0.030925233, 0.029632866, 0.028943187]\n",
      "[u'I love how you never reply back..', 0.39060431718826294, 1, 19, 55, 25, 46, 0.13978004, 0.082515739, 0.062788285, 0.054191161, 0.051329087]\n",
      "[u'I love cruising with my homies', 0.5413312129676342, 31, 6, 30, 15, 13, 0.33965704, 0.066058099, 0.057058834, 0.040674038, 0.037883203]\n",
      "[u'I love messing with yo mind!!', 0.48666664958000183, 54, 44, 9, 50, 49, 0.17236328, 0.1184359, 0.079605907, 0.06371031, 0.052551255]\n",
      "[u\"I love you and now you're just gone..\", 0.67333512753248215, 46, 5, 27, 35, 34, 0.39116541, 0.11033387, 0.073462442, 0.052958723, 0.045414682]\n",
      "[u'Paul is dead', 0.54029577970504761, 34, 46, 51, 3, 35, 0.19904983, 0.12621364, 0.07727541, 0.074507423, 0.063249476]\n",
      "[u'I am very afraid of dying', 0.51727710664272308, 52, 39, 43, 34, 27, 0.16364294, 0.10124379, 0.094967499, 0.08395201, 0.073470861]\n",
      "[u'I am very happy right now!', 0.62103931419551373, 53, 7, 16, 10, 36, 0.25128084, 0.15342174, 0.11367886, 0.073806964, 0.028850904]\n"
     ]
    }
   ],
   "source": [
    "\n",
    "print('Running predictions.')\n",
    "prob = model.predict(tokenized)\n",
    "\n",
    "# Find top emojis for each sentence. Emoji ids (0-63)\n",
    "# correspond to the mapping in emoji_overview.png\n",
    "# at the root of the DeepMoji repo.\n",
    "print('Writing results to {}'.format(OUTPUT_PATH))\n",
    "scores = []\n",
    "for i, t in enumerate(TEST_SENTENCES):\n",
    "    t_tokens = tokenized[i]\n",
    "    t_score = [t]\n",
    "    t_prob = prob[i]\n",
    "    ind_top = top_elements(t_prob, 5)\n",
    "    t_score.append(sum(t_prob[ind_top]))\n",
    "    t_score.extend(ind_top)\n",
    "    t_score.extend([t_prob[ind] for ind in ind_top])\n",
    "    scores.append(t_score)\n",
    "    print(t_score)\n",
    "\n",
    "with open(OUTPUT_PATH, 'wb') as csvfile:\n",
    "    writer = csv.writer(csvfile, delimiter=',', lineterminator='\\n')\n",
    "    writer.writerow(['Text', 'Top5%',\n",
    "                     'Emoji_1', 'Emoji_2', 'Emoji_3', 'Emoji_4', 'Emoji_5',\n",
    "                     'Pct_1', 'Pct_2', 'Pct_3', 'Pct_4', 'Pct_5'])\n",
    "    for i, row in enumerate(scores):\n",
    "        try:\n",
    "            writer.writerow(row)\n",
    "        except Exception:\n",
    "            print(\"Exception at row {}!\".format(i))"
   ]
  }
 ],
 "metadata": {
  "kernelspec": {
   "display_name": "Python 2",
   "language": "python",
   "name": "python2"
  },
  "language_info": {
   "codemirror_mode": {
    "name": "ipython",
    "version": 2
   },
   "file_extension": ".py",
   "mimetype": "text/x-python",
   "name": "python",
   "nbconvert_exporter": "python",
   "pygments_lexer": "ipython2",
   "version": "2.7.15"
  }
 },
 "nbformat": 4,
 "nbformat_minor": 2
}
